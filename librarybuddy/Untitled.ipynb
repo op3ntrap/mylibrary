{
 "cells": [
  {
   "cell_type": "code",
   "execution_count": 1,
   "metadata": {},
   "outputs": [],
   "source": [
    "from django.apps import apps\n",
    "from django.forms import ModelForm \n",
    "class foo(ModelForm):\n",
    "    class Meta:\n",
    "        model = apps.get_model('BookManager', model_name='Book')\n",
    "        exclude = ('_id',)"
   ]
  },
  {
   "cell_type": "code",
   "execution_count": 14,
   "metadata": {},
   "outputs": [
    {
     "data": {
      "text/plain": [
       "{'_id': UUID('c80d6a27-2bbc-4252-b07b-532bfe5e6957'),\n",
       " '_state': <django.db.models.base.ModelState at 0x7f1aca5a2240>,\n",
       " 'archive_id': UUID('2c898a27-9857-4aaa-a380-988c7385b52f'),\n",
       " 'client_id': UUID('c96c12cd-499c-48b3-8dd9-205f3b7f2162'),\n",
       " 'issue_date': datetime.datetime(2017, 10, 25, 7, 3, 7, 906025, tzinfo=<UTC>),\n",
       " 'issuer_id': UUID('3701beb8-27aa-4712-baa5-8de8157b612a'),\n",
       " 'penalty_charged': 0.0,\n",
       " 'returned': True,\n",
       " 'returned_date': datetime.datetime(2017, 10, 25, 7, 3, 7, 910904, tzinfo=<UTC>)}"
      ]
     },
     "execution_count": 14,
     "metadata": {},
     "output_type": "execute_result"
    }
   ],
   "source": [
    "r = apps.get_model('TransactionManager', 'Returning')\n",
    "d = r.objects.all()[0]\n",
    "d.__dict__"
   ]
  },
  {
   "cell_type": "code",
   "execution_count": 15,
   "metadata": {},
   "outputs": [
    {
     "data": {
      "text/plain": [
       "{'_id': UUID('d5edeb47-a977-4705-9e47-5449bd171f98'),\n",
       " '_state': <django.db.models.base.ModelState at 0x7f1aca5a2c50>,\n",
       " 'archive_id': UUID('2c898a27-9857-4aaa-a380-988c7385b52f'),\n",
       " 'client_id': UUID('c96c12cd-499c-48b3-8dd9-205f3b7f2162'),\n",
       " 'issue_date': datetime.datetime(2017, 10, 25, 7, 3, 7, 906025, tzinfo=<UTC>),\n",
       " 'issuer_id': UUID('3701beb8-27aa-4712-baa5-8de8157b612a'),\n",
       " 'returning_record_id': UUID('c80d6a27-2bbc-4252-b07b-532bfe5e6957')}"
      ]
     },
     "execution_count": 15,
     "metadata": {},
     "output_type": "execute_result"
    }
   ],
   "source": [
    "r = apps.get_model('TransactionManager', 'Lend')\n",
    "d = r.objects.all()[0]\n",
    "d.__dict__"
   ]
  }
 ],
 "metadata": {
  "kernelspec": {
   "display_name": "Django Shell-Plus",
   "language": "python",
   "name": "django_extensions"
  },
  "language_info": {
   "codemirror_mode": {
    "name": "ipython",
    "version": 3
   },
   "file_extension": ".py",
   "mimetype": "text/x-python",
   "name": "python",
   "nbconvert_exporter": "python",
   "pygments_lexer": "ipython3",
   "version": "3.5.2"
  }
 },
 "nbformat": 4,
 "nbformat_minor": 2
}
